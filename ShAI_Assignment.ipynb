{
  "nbformat": 4,
  "nbformat_minor": 0,
  "metadata": {
    "colab": {
      "private_outputs": true,
      "provenance": [],
      "cell_execution_strategy": "setup"
    },
    "kernelspec": {
      "name": "python3",
      "display_name": "Python 3"
    },
    "language_info": {
      "name": "python"
    }
  },
  "cells": [
    {
      "cell_type": "code",
      "execution_count": null,
      "metadata": {
        "id": "54JjGLERctme"
      },
      "outputs": [],
      "source": [
        "# import libraries\n",
        "import pandas as pd\n",
        "import numpy as np\n",
        "import matplotlib.pyplot as plt\n",
        "import seaborn as sns"
      ]
    },
    {
      "cell_type": "code",
      "source": [
        "\n",
        "# Load the dataset\n",
        "df = pd.read_csv('/content/Salaries.csv')\n",
        "df.head()"
      ],
      "metadata": {
        "id": "4BIBO1pKd2nN"
      },
      "execution_count": null,
      "outputs": []
    },
    {
      "cell_type": "code",
      "source": [
        "df.columns"
      ],
      "metadata": {
        "id": "EvN6E1T-xA0t"
      },
      "execution_count": null,
      "outputs": []
    },
    {
      "cell_type": "markdown",
      "source": [
        "#TASK(1):Basic Data Exploration"
      ],
      "metadata": {
        "id": "fKL-NGcMeGFR"
      }
    },
    {
      "cell_type": "code",
      "source": [
        "#the number of rows and columns in the dataset\n",
        "#Get The Number Of Rows\n",
        "print(len(df))\n",
        "#Get The Number Of Columns\n",
        "print(len(df.columns))\n",
        "print(df.shape)#EXTRA\n",
        "#Get The Data Type Of Each Column\n",
        "print(df.dtypes)\n",
        "#check for missing values in each column\n",
        "print(df.isnull)"
      ],
      "metadata": {
        "id": "FFjeZ9d4edn4"
      },
      "execution_count": null,
      "outputs": []
    },
    {
      "cell_type": "markdown",
      "source": [
        "#TASK(2):Descriptive Statistics"
      ],
      "metadata": {
        "id": "61SnVjezfLYW"
      }
    },
    {
      "cell_type": "code",
      "source": [
        "#Calculate mean, median, mode, minimum, and maximum FOR THE TOTAL SALARY\n",
        "print(df['TotalPay'].mean())\n",
        "print(df['TotalPay'].median())\n",
        "print(df['TotalPay'].mode())\n",
        "print(df['TotalPay'].min())\n",
        "print(df['TotalPay'].max())\n",
        "#Calculate  the range of salaries\n",
        "print(df['TotalPay'].max()-df['TotalPay'].min())\n",
        "# find the standard deviation\n",
        "a = np.std(df['TotalPay'])\n",
        "print(a)"
      ],
      "metadata": {
        "id": "7fhnhVcbfji-"
      },
      "execution_count": null,
      "outputs": []
    },
    {
      "cell_type": "markdown",
      "source": [
        "#TASK(3):Data Cleaning"
      ],
      "metadata": {
        "id": "Negsk6Cigv5G"
      }
    },
    {
      "cell_type": "code",
      "source": [
        "#fill all nan with zero\n",
        "#this way we ensure that we don't lose any data\n",
        "#the rows or columns that contain nan aren't deleted\n",
        "df.fillna(0)"
      ],
      "metadata": {
        "id": "l60tBsp6g7s4"
      },
      "execution_count": null,
      "outputs": []
    },
    {
      "cell_type": "markdown",
      "source": [
        "#TASK(4):Basic Data Visualization"
      ],
      "metadata": {
        "id": "JUtB1d2Rijgk"
      }
    },
    {
      "cell_type": "code",
      "source": [
        "#Create histograms to visualize the distribution of salaries\n",
        "x = np.random.normal(df[\"BasePay\"])\n",
        "plt.xlabel('employees')\n",
        "plt.ylabel('salaries')\n",
        "plt.title('Salaries Distribution')\n",
        "plt.hist(x)\n",
        "plt.show()\n",
        "#use pie charts to represent the proportion of employees in different departments.\n",
        "y = np.array(df.groupby(\"JobTitle\")[\"JobTitle\"].count())\n",
        "plt.pie(y)\n",
        "plt.show()"
      ],
      "metadata": {
        "id": "M_q7jlWVitfQ"
      },
      "execution_count": null,
      "outputs": []
    },
    {
      "cell_type": "markdown",
      "source": [
        "#TASK(5):Grouped Analysis"
      ],
      "metadata": {
        "id": "13SxFVdgjs0-"
      }
    },
    {
      "cell_type": "code",
      "source": [
        "df[[\"BasePay\", \"TotalPay\"]].mean()"
      ],
      "metadata": {
        "id": "YT2W-XMvj6kB"
      },
      "execution_count": null,
      "outputs": []
    },
    {
      "cell_type": "code",
      "source": [
        "df[[\"BasePay\", \"TotalPay\"]].median()\n"
      ],
      "metadata": {
        "id": "lwxzXTYiulHo"
      },
      "execution_count": null,
      "outputs": []
    },
    {
      "cell_type": "code",
      "source": [
        "df[[\"BasePay\", \"TotalPay\"]].min()\n"
      ],
      "metadata": {
        "id": "a36jnEHHukyN"
      },
      "execution_count": null,
      "outputs": []
    },
    {
      "cell_type": "code",
      "source": [
        "df[[\"BasePay\", \"TotalPay\"]].max()\n"
      ],
      "metadata": {
        "id": "-ydYQtbCuka_"
      },
      "execution_count": null,
      "outputs": []
    },
    {
      "cell_type": "code",
      "source": [
        "df.groupby(\"JobTitle\")[\"BasePay\"].count()"
      ],
      "metadata": {
        "id": "kS_W5WulvNCT"
      },
      "execution_count": null,
      "outputs": []
    },
    {
      "cell_type": "markdown",
      "source": [
        "#TASK(6):Simple Correlation Analysis"
      ],
      "metadata": {
        "id": "IMYg5DB3j93f"
      }
    },
    {
      "cell_type": "code",
      "source": [
        "corr=df['BasePay'].corr(df['OvertimePay'])\n",
        "print(corr)\n",
        "# use the function regplot to make a scatterplot\n",
        "sns.regplot(x=df['BasePay'],y=df['OvertimePay'])"
      ],
      "metadata": {
        "id": "lvNVuRF8kRvt"
      },
      "execution_count": null,
      "outputs": []
    }
  ]
}